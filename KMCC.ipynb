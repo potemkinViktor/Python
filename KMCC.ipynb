{
  "nbformat": 4,
  "nbformat_minor": 0,
  "metadata": {
    "colab": {
      "name": "KMCC.ipynb",
      "provenance": []
    },
    "kernelspec": {
      "name": "python3",
      "display_name": "Python 3"
    },
    "language_info": {
      "name": "python"
    }
  },
  "cells": [
    {
      "cell_type": "code",
      "source": [
        "import numpy as np"
      ],
      "metadata": {
        "id": "J8XlUec_edn0"
      },
      "execution_count": 16,
      "outputs": []
    },
    {
      "cell_type": "code",
      "source": [
        "def model_xi():\n",
        "    gamma = np.random.uniform(0, 1)\n",
        "    return -10*np.log(gamma)"
      ],
      "metadata": {
        "id": "YlKYlsa-edwC"
      },
      "execution_count": 17,
      "outputs": []
    },
    {
      "cell_type": "code",
      "source": [
        "def model_eta():\n",
        "    gamma1, gamma2 = np.random.uniform(0, 1), np.random.uniform(0, 1)\n",
        "    return -100/3*np.log(gamma1*gamma2)"
      ],
      "metadata": {
        "id": "0LeCOKtged0U"
      },
      "execution_count": 18,
      "outputs": []
    },
    {
      "cell_type": "code",
      "source": [
        "def model_Ind():\n",
        "    time = [0, 0] # время T1 = 0 и T2 = 0\n",
        "    t = T0 = L = Ind = 0 # задаем начальные условия\n",
        "    T = 100 # правый конец интервала функционирования\n",
        "    while t != T: # пока СМО может работать\n",
        "        T0 += model_xi() # пришло новое требование\n",
        "        t = min(T, T0, min(time)) # определяем время критического момента\n",
        "        if t != min(time): # есть ли свободный канал\n",
        "            if L == 1: # есть ли место в очереди\n",
        "                Ind +=1 # потеря требования\n",
        "            else:\n",
        "                L +=1 #добавляем требование в очередь\n",
        "        else:\n",
        "            if L > 0: # есть ли очередь\n",
        "                L -= 1 # убираем требование из очередь\n",
        "                j = np.argmin(time) + 1 # определяем свободный канал с␣,→наименьшим номером\n",
        "                if j == 1:\n",
        "                    time[0] += model_eta() # отправили в каналу 1\n",
        "                else:\n",
        "                    time[1] += model_eta() # отправили в канал 2\n",
        "            else:\n",
        "                j = 1 if time[0] < T0 else 2 # отправляем требование в свободный␣,→канал с наименьшим номером\n",
        "                if j == 1:\n",
        "                    time[0] += model_eta() # отправили в канал 1\n",
        "                else:\n",
        "                    time[1] += model_eta() # отправили в канал 2\n",
        "\n",
        "    return Ind"
      ],
      "metadata": {
        "id": "nEJxh8u_ed3P"
      },
      "execution_count": 19,
      "outputs": []
    },
    {
      "cell_type": "code",
      "source": [
        "model_Ind()"
      ],
      "metadata": {
        "colab": {
          "base_uri": "https://localhost:8080/"
        },
        "id": "ahCozIEayqyq",
        "outputId": "1422bd5a-d959-4b05-a49c-93bd26d314e5"
      },
      "execution_count": 24,
      "outputs": [
        {
          "output_type": "execute_result",
          "data": {
            "text/plain": [
              "6"
            ]
          },
          "metadata": {},
          "execution_count": 24
        }
      ]
    },
    {
      "cell_type": "code",
      "source": [
        "def model_loss(N1):\n",
        "    i = s = s_sq = N2 = E = D = 0 # задаем начальные условия\n",
        "    while True:\n",
        "      while i < N1: # моделируем работу СМО заданное число раз\n",
        "        Ind = model_Ind() # моделируем число потерянных требований\n",
        "        s += Ind # накапливаем сумму потерянных требований\n",
        "        s_sq += Ind**2 # накапливаем сумму квадратов потерянных требований\n",
        "        i += 1\n",
        "      E = s / N1 # оцениваем математическое ожидание\n",
        "      D = s_sq / N1 - E**2 # оцениваем дисперсию\n",
        "      N2 = 1.96**2 * D / 0.25 # считаем число реализаций до достижения нужной␣,→точности\n",
        "      if N2 <= N1:\n",
        "          break\n",
        "      else:\n",
        "        N1 = N2\n",
        "    return E"
      ],
      "metadata": {
        "id": "nqC_dAQhyrdz"
      },
      "execution_count": 34,
      "outputs": []
    },
    {
      "cell_type": "code",
      "source": [
        "model_loss(1000)"
      ],
      "metadata": {
        "colab": {
          "base_uri": "https://localhost:8080/"
        },
        "id": "DaFTMGtjyrlo",
        "outputId": "2bf1f086-7202-4f1c-a308-a0ac6ab9ccc3"
      },
      "execution_count": 36,
      "outputs": [
        {
          "output_type": "execute_result",
          "data": {
            "text/plain": [
              "4.526"
            ]
          },
          "metadata": {},
          "execution_count": 36
        }
      ]
    },
    {
      "cell_type": "code",
      "source": [
        ""
      ],
      "metadata": {
        "id": "ogLzDg6DysOv"
      },
      "execution_count": null,
      "outputs": []
    },
    {
      "cell_type": "code",
      "source": [
        ""
      ],
      "metadata": {
        "id": "9CwZ7891ysRh"
      },
      "execution_count": null,
      "outputs": []
    }
  ]
}